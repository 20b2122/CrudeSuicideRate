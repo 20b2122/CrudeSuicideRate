{
 "cells": [
  {
   "cell_type": "markdown",
   "id": "fleet-column",
   "metadata": {},
   "source": [
    "# Project - Crude Suicide Rates"
   ]
  },
  {
   "cell_type": "code",
   "execution_count": 1,
   "id": "later-hunter",
   "metadata": {},
   "outputs": [],
   "source": [
    "%matplotlib inline\n",
    "import matplotlib.pyplot as plt\n",
    "import matplotlib.cm as cm\n",
    "import seaborn as sb\n",
    "import numpy as np\n",
    "import pandas as pd"
   ]
  },
  {
   "cell_type": "code",
   "execution_count": 2,
   "id": "political-stanford",
   "metadata": {
    "scrolled": true
   },
   "outputs": [],
   "source": [
    "filename = './data/CrudeSuicideRates/crudeSuicideRates.csv'\n",
    "df = pd.read_csv(filename)\n",
    "#display(df.head(16))"
   ]
  },
  {
   "cell_type": "code",
   "execution_count": 3,
   "id": "confused-vienna",
   "metadata": {},
   "outputs": [],
   "source": [
    "#print(df.shape)"
   ]
  },
  {
   "cell_type": "markdown",
   "id": "bound-device",
   "metadata": {},
   "source": [
    "### sort according to countries + total number of suicide rates."
   ]
  },
  {
   "cell_type": "code",
   "execution_count": 4,
   "id": "authorized-ceremony",
   "metadata": {},
   "outputs": [],
   "source": [
    "df = pd.DataFrame(df, columns=['Location','First Tooltip','Dim1', 'Period'])\n",
    "#display(df)"
   ]
  },
  {
   "cell_type": "code",
   "execution_count": 5,
   "id": "imported-contact",
   "metadata": {},
   "outputs": [],
   "source": [
    "locations = df.Location.unique()\n",
    "\n",
    "data = []\n",
    "\n",
    "def select_loc (loc = locations):\n",
    "    select_location = df.loc[df['Location'] == loc]\n",
    "    #print(select_location)\n",
    "    sum_loc = select_location['First Tooltip'].sum(axis=0)\n",
    "    data.append(sum_loc)\n",
    "    return sum_loc"
   ]
  },
  {
   "cell_type": "code",
   "execution_count": 6,
   "id": "heavy-september",
   "metadata": {
    "scrolled": true
   },
   "outputs": [],
   "source": [
    "for loc in locations:\n",
    "    all_loc = select_loc(loc)\n",
    "    #print(all_loc)"
   ]
  },
  {
   "cell_type": "code",
   "execution_count": 7,
   "id": "precise-headset",
   "metadata": {},
   "outputs": [
    {
     "name": "stdout",
     "output_type": "stream",
     "text": [
      "184\n"
     ]
    }
   ],
   "source": [
    "print(len(data))"
   ]
  },
  {
   "cell_type": "code",
   "execution_count": 8,
   "id": "threaded-envelope",
   "metadata": {},
   "outputs": [],
   "source": [
    "locations = df.Location.unique()"
   ]
  },
  {
   "cell_type": "markdown",
   "id": "fatal-giving",
   "metadata": {},
   "source": [
    "### how to make each value match the country"
   ]
  },
  {
   "cell_type": "code",
   "execution_count": 9,
   "id": "three-customer",
   "metadata": {},
   "outputs": [],
   "source": [
    "all_locations = []\n",
    "for loc in locations:\n",
    "    if loc not in all_locations:\n",
    "        all_locations.append(loc)"
   ]
  },
  {
   "cell_type": "code",
   "execution_count": 10,
   "id": "instant-mission",
   "metadata": {},
   "outputs": [],
   "source": [
    "#print(len(all_locations))"
   ]
  },
  {
   "cell_type": "code",
   "execution_count": 11,
   "id": "approximate-gossip",
   "metadata": {},
   "outputs": [
    {
     "name": "stdout",
     "output_type": "stream",
     "text": [
      "                 Location  TotalRate\n",
      "4     Antigua and Barbuda       13.0\n",
      "66                Grenada       19.8\n",
      "160  Syrian Arab Republic       20.1\n",
      "10                Bahamas       24.1\n",
      "155                 Sudan       24.1\n",
      "..                    ...        ...\n",
      "171               Ukraine      377.8\n",
      "85             Kazakhstan      399.5\n",
      "14                Belarus      473.0\n",
      "96              Lithuania      517.5\n",
      "135    Russian Federation      546.7\n",
      "\n",
      "[184 rows x 2 columns]\n"
     ]
    }
   ],
   "source": [
    "d1 = {'Location':  all_locations, 'TotalRate': data}\n",
    "df1 = pd.DataFrame (d1, columns = ['Location','TotalRate'])\n",
    "\n",
    "sort_d = df1.sort_values(by=['TotalRate'], inplace=True)\n",
    "\n",
    "print(df1)"
   ]
  },
  {
   "cell_type": "code",
   "execution_count": 12,
   "id": "accepted-villa",
   "metadata": {},
   "outputs": [],
   "source": [
    "least10_tot = df1.TotalRate[:10]\n",
    "least10_loc = df1.Location[:10]\n",
    "#print(least10_tot, least10_loc)"
   ]
  },
  {
   "cell_type": "code",
   "execution_count": 13,
   "id": "automatic-annual",
   "metadata": {},
   "outputs": [
    {
     "data": {
      "image/png": "[encoded data removed]",
      "text/plain": [
       "<Figure size 432x288 with 1 Axes>"
      ]
     },
     "metadata": {
      "needs_background": "light"
     },
     "output_type": "display_data"
    }
   ],
   "source": [
    "plt.barh(least10_loc, least10_tot);\n",
    "\n",
    "plt.title('Least 10 Locations')\n",
    "plt.ylabel('Location')\n",
    "plt.xlabel('Total Rate');"
   ]
  },
  {
   "cell_type": "markdown",
   "id": "sixth-slave",
   "metadata": {},
   "source": [
    "### Top 10 locations"
   ]
  },
  {
   "cell_type": "code",
   "execution_count": 14,
   "id": "stuffed-insertion",
   "metadata": {},
   "outputs": [
    {
     "name": "stdout",
     "output_type": "stream",
     "text": [
      "148    305.5\n",
      "70     311.8\n",
      "131    311.8\n",
      "73     322.4\n",
      "91     329.3\n",
      "171    377.8\n",
      "85     399.5\n",
      "14     473.0\n",
      "96     517.5\n",
      "135    546.7\n",
      "Name: TotalRate, dtype: float64 148              Slovenia\n",
      "70                 Guyana\n",
      "131     Republic of Korea\n",
      "73                Hungary\n",
      "91                 Latvia\n",
      "171               Ukraine\n",
      "85             Kazakhstan\n",
      "14                Belarus\n",
      "96              Lithuania\n",
      "135    Russian Federation\n",
      "Name: Location, dtype: object\n"
     ]
    }
   ],
   "source": [
    "top10_tot = df1.TotalRate.tail(10)\n",
    "top10_loc = df1.Location.tail(10)\n",
    "\n",
    "print(top10_tot,top10_loc)"
   ]
  },
  {
   "cell_type": "code",
   "execution_count": 15,
   "id": "wooden-intervention",
   "metadata": {},
   "outputs": [
    {
     "data": {
      "image/png": "[encoded data removed]",
      "text/plain": [
       "<Figure size 432x288 with 1 Axes>"
      ]
     },
     "metadata": {
      "needs_background": "light"
     },
     "output_type": "display_data"
    }
   ],
   "source": [
    "plt.barh(top10_loc, top10_tot);\n",
    "\n",
    "plt.title('Top 10 Locations')\n",
    "plt.ylabel('Location')\n",
    "plt.xlabel('Total Rate');"
   ]
  },
  {
   "cell_type": "markdown",
   "id": "infinite-instruction",
   "metadata": {},
   "source": [
    "# Finding the Average"
   ]
  },
  {
   "cell_type": "markdown",
   "id": "creative-hospital",
   "metadata": {},
   "source": [
    "* least 10 locations"
   ]
  },
  {
   "cell_type": "code",
   "execution_count": 16,
   "id": "genuine-aquarium",
   "metadata": {},
   "outputs": [],
   "source": [
    "least10_avgrate = least10_tot/3\n",
    "\n",
    "#print(least10_avgrate, least10_loc)"
   ]
  },
  {
   "cell_type": "code",
   "execution_count": 17,
   "id": "connected-legislation",
   "metadata": {},
   "outputs": [
    {
     "data": {
      "image/png": "[encoded data removed]",
      "text/plain": [
       "<Figure size 432x288 with 1 Axes>"
      ]
     },
     "metadata": {
      "needs_background": "light"
     },
     "output_type": "display_data"
    }
   ],
   "source": [
    "plt.barh(least10_loc, least10_avgrate);\n",
    "\n",
    "plt.title('Least 10 Locations')\n",
    "plt.ylabel('Location')\n",
    "plt.xlabel('Average Rate');"
   ]
  },
  {
   "cell_type": "markdown",
   "id": "moral-yield",
   "metadata": {},
   "source": [
    "* top 10 locations"
   ]
  },
  {
   "cell_type": "code",
   "execution_count": 18,
   "id": "crude-confirmation",
   "metadata": {},
   "outputs": [],
   "source": [
    "top10_avgrate = top10_tot/3\n",
    "\n",
    "#print(top10_avgrate, top10_loc)"
   ]
  },
  {
   "cell_type": "code",
   "execution_count": 19,
   "id": "curious-cable",
   "metadata": {},
   "outputs": [
    {
     "data": {
      "image/png": "[encoded data removed]",
      "text/plain": [
       "<Figure size 432x288 with 1 Axes>"
      ]
     },
     "metadata": {
      "needs_background": "light"
     },
     "output_type": "display_data"
    }
   ],
   "source": [
    "plt.barh(top10_loc, top10_avgrate);\n",
    "\n",
    "plt.title('Top 10 Locations')\n",
    "plt.ylabel('Location')\n",
    "plt.xlabel('Average Rate');"
   ]
  },
  {
   "cell_type": "markdown",
   "id": "incredible-companion",
   "metadata": {},
   "source": [
    "### Separating the groups (Male, Female, Both Sex)"
   ]
  },
  {
   "cell_type": "code",
   "execution_count": 20,
   "id": "stone-enhancement",
   "metadata": {},
   "outputs": [
    {
     "name": "stdout",
     "output_type": "stream",
     "text": [
      "['Both sexes' 'Male' 'Female']\n"
     ]
    }
   ],
   "source": [
    "gender = df.Dim1.unique()\n",
    "print(gender)"
   ]
  },
  {
   "cell_type": "code",
   "execution_count": 21,
   "id": "greek-cambridge",
   "metadata": {},
   "outputs": [
    {
     "data": {
      "text/plain": [
       "Dim1\n",
       "Both sexes     7396.8\n",
       "Female         3902.3\n",
       "Male          11017.5\n",
       "Name: First Tooltip, dtype: float64"
      ]
     },
     "execution_count": 21,
     "metadata": {},
     "output_type": "execute_result"
    }
   ],
   "source": [
    "df.groupby('Dim1')['First Tooltip'].sum()"
   ]
  },
  {
   "cell_type": "code",
   "execution_count": 22,
   "id": "extreme-kenya",
   "metadata": {},
   "outputs": [],
   "source": [
    "sum_gen = df.groupby([\"Location\", \"Dim1\"])['First Tooltip'].sum()\n",
    "#print(sum_gen)"
   ]
  },
  {
   "cell_type": "code",
   "execution_count": 23,
   "id": "powerful-album",
   "metadata": {},
   "outputs": [],
   "source": [
    "bs = []\n",
    "m = []\n",
    "f = []\n",
    "\n",
    "for gen in gender:\n",
    "    for loc in locations:\n",
    "        if gen == 'Both sexes':\n",
    "            bs.append(sum_gen[loc, 'Both sexes'])\n",
    "        if gen == 'Male':\n",
    "            m.append(sum_gen[loc, 'Male'])\n",
    "        if gen == 'Female':\n",
    "            f.append(sum_gen[loc, 'Female'])\n",
    "    "
   ]
  },
  {
   "cell_type": "code",
   "execution_count": 24,
   "id": "conventional-tuition",
   "metadata": {},
   "outputs": [
    {
     "data": {
      "text/html": [
       "<div>\n",
       "<style scoped>\n",
       "    .dataframe tbody tr th:only-of-type {\n",
       "        vertical-align: middle;\n",
       "    }\n",
       "\n",
       "    .dataframe tbody tr th {\n",
       "        vertical-align: top;\n",
       "    }\n",
       "\n",
       "    .dataframe thead th {\n",
       "        text-align: right;\n",
       "    }\n",
       "</style>\n",
       "<table border=\"1\" class=\"dataframe\">\n",
       "  <thead>\n",
       "    <tr style=\"text-align: right;\">\n",
       "      <th></th>\n",
       "      <th>Location</th>\n",
       "      <th>TotalRate</th>\n",
       "      <th>Gender</th>\n",
       "    </tr>\n",
       "  </thead>\n",
       "  <tbody>\n",
       "    <tr>\n",
       "      <th>0</th>\n",
       "      <td>Afghanistan</td>\n",
       "      <td>21.9</td>\n",
       "      <td>Both sexes</td>\n",
       "    </tr>\n",
       "    <tr>\n",
       "      <th>0</th>\n",
       "      <td>Afghanistan</td>\n",
       "      <td>5.4</td>\n",
       "      <td>Female</td>\n",
       "    </tr>\n",
       "    <tr>\n",
       "      <th>0</th>\n",
       "      <td>Afghanistan</td>\n",
       "      <td>37.2</td>\n",
       "      <td>Male</td>\n",
       "    </tr>\n",
       "    <tr>\n",
       "      <th>1</th>\n",
       "      <td>Albania</td>\n",
       "      <td>26.0</td>\n",
       "      <td>Both sexes</td>\n",
       "    </tr>\n",
       "    <tr>\n",
       "      <th>1</th>\n",
       "      <td>Albania</td>\n",
       "      <td>19.7</td>\n",
       "      <td>Female</td>\n",
       "    </tr>\n",
       "    <tr>\n",
       "      <th>...</th>\n",
       "      <td>...</td>\n",
       "      <td>...</td>\n",
       "      <td>...</td>\n",
       "    </tr>\n",
       "    <tr>\n",
       "      <th>182</th>\n",
       "      <td>Zambia</td>\n",
       "      <td>27.0</td>\n",
       "      <td>Both sexes</td>\n",
       "    </tr>\n",
       "    <tr>\n",
       "      <th>182</th>\n",
       "      <td>Zambia</td>\n",
       "      <td>15.5</td>\n",
       "      <td>Female</td>\n",
       "    </tr>\n",
       "    <tr>\n",
       "      <th>183</th>\n",
       "      <td>Zimbabwe</td>\n",
       "      <td>24.0</td>\n",
       "      <td>Female</td>\n",
       "    </tr>\n",
       "    <tr>\n",
       "      <th>183</th>\n",
       "      <td>Zimbabwe</td>\n",
       "      <td>49.3</td>\n",
       "      <td>Both sexes</td>\n",
       "    </tr>\n",
       "    <tr>\n",
       "      <th>183</th>\n",
       "      <td>Zimbabwe</td>\n",
       "      <td>75.9</td>\n",
       "      <td>Male</td>\n",
       "    </tr>\n",
       "  </tbody>\n",
       "</table>\n",
       "<p>552 rows × 3 columns</p>\n",
       "</div>"
      ],
      "text/plain": [
       "        Location  TotalRate      Gender\n",
       "0    Afghanistan       21.9  Both sexes\n",
       "0    Afghanistan        5.4      Female\n",
       "0    Afghanistan       37.2        Male\n",
       "1        Albania       26.0  Both sexes\n",
       "1        Albania       19.7      Female\n",
       "..           ...        ...         ...\n",
       "182       Zambia       27.0  Both sexes\n",
       "182       Zambia       15.5      Female\n",
       "183     Zimbabwe       24.0      Female\n",
       "183     Zimbabwe       49.3  Both sexes\n",
       "183     Zimbabwe       75.9        Male\n",
       "\n",
       "[552 rows x 3 columns]"
      ]
     },
     "metadata": {},
     "output_type": "display_data"
    }
   ],
   "source": [
    "both = {'Location':  all_locations, 'TotalRate': bs, 'Gender': 'Both sexes'}\n",
    "df_both = pd.DataFrame (both, columns = ['Location','TotalRate', 'Gender'])\n",
    "\n",
    "female = {'Location':  all_locations, 'TotalRate': f, 'Gender': 'Female'}\n",
    "df_female = pd.DataFrame (female, columns = ['Location','TotalRate', 'Gender'])\n",
    "\n",
    "male = {'Location':  all_locations, 'TotalRate': m, 'Gender': 'Male'}\n",
    "df_male = pd.DataFrame (male, columns = ['Location','TotalRate', 'Gender'])\n",
    "\n",
    "all_ = pd.concat([df_both, df_female, df_male], axis=0)\n",
    "sort_all_ = all_.sort_values(by=['Location'], inplace=True)\n",
    "\n",
    "display(all_)"
   ]
  },
  {
   "cell_type": "code",
   "execution_count": 25,
   "id": "bridal-fabric",
   "metadata": {},
   "outputs": [
    {
     "data": {
      "image/png": "[encoded data removed]",
      "text/plain": [
       "<Figure size 432x288 with 1 Axes>"
      ]
     },
     "metadata": {
      "needs_background": "light"
     },
     "output_type": "display_data"
    }
   ],
   "source": [
    "plt.scatter(data=all_, y='TotalRate', x='Gender');"
   ]
  },
  {
   "cell_type": "markdown",
   "id": "medium-trial",
   "metadata": {},
   "source": [
    "### Period"
   ]
  },
  {
   "cell_type": "code",
   "execution_count": 26,
   "id": "computational-england",
   "metadata": {},
   "outputs": [
    {
     "name": "stdout",
     "output_type": "stream",
     "text": [
      "Period  Dim1      \n",
      "2000    Both sexes    1983.1\n",
      "        Female        1055.3\n",
      "        Male          2949.9\n",
      "2005    Both sexes    1892.7\n",
      "        Female        1004.5\n",
      "        Male          2818.0\n",
      "2010    Both sexes    1801.7\n",
      "        Female         938.2\n",
      "        Male          2693.3\n",
      "2015    Both sexes    1717.0\n",
      "        Female         902.7\n",
      "        Male          2552.9\n",
      "2016    Both sexes       2.3\n",
      "        Female           1.6\n",
      "        Male             3.4\n",
      "Name: First Tooltip, dtype: float64\n"
     ]
    }
   ],
   "source": [
    "sum_yr = df.groupby([\"Period\", \"Dim1\"])['First Tooltip'].sum()\n",
    "print(sum_yr)"
   ]
  },
  {
   "cell_type": "code",
   "execution_count": 53,
   "id": "short-poster",
   "metadata": {},
   "outputs": [
    {
     "data": {
      "text/plain": [
       "MultiIndex([(2000, 'Both sexes'),\n",
       "            (2000,     'Female'),\n",
       "            (2000,       'Male'),\n",
       "            (2005, 'Both sexes'),\n",
       "            (2005,     'Female'),\n",
       "            (2005,       'Male'),\n",
       "            (2010, 'Both sexes'),\n",
       "            (2010,     'Female'),\n",
       "            (2010,       'Male'),\n",
       "            (2015, 'Both sexes'),\n",
       "            (2015,     'Female'),\n",
       "            (2015,       'Male'),\n",
       "            (2016, 'Both sexes'),\n",
       "            (2016,     'Female'),\n",
       "            (2016,       'Male')],\n",
       "           names=['Period', 'Dim1'])"
      ]
     },
     "execution_count": 53,
     "metadata": {},
     "output_type": "execute_result"
    }
   ],
   "source": [
    "#type(sum_yr)\n",
    "sum_yr.index"
   ]
  },
  {
   "cell_type": "code",
   "execution_count": 28,
   "id": "cleared-audio",
   "metadata": {},
   "outputs": [],
   "source": [
    "df_yrgen = sum_yr.add_suffix('').reset_index()\n",
    "df_yrsort = df_yrgen.sort_values('Dim1')"
   ]
  },
  {
   "cell_type": "code",
   "execution_count": 54,
   "id": "worst-consolidation",
   "metadata": {},
   "outputs": [
    {
     "data": {
      "text/html": [
       "<div>\n",
       "<style scoped>\n",
       "    .dataframe tbody tr th:only-of-type {\n",
       "        vertical-align: middle;\n",
       "    }\n",
       "\n",
       "    .dataframe tbody tr th {\n",
       "        vertical-align: top;\n",
       "    }\n",
       "\n",
       "    .dataframe thead th {\n",
       "        text-align: right;\n",
       "    }\n",
       "</style>\n",
       "<table border=\"1\" class=\"dataframe\">\n",
       "  <thead>\n",
       "    <tr style=\"text-align: right;\">\n",
       "      <th></th>\n",
       "      <th>Period</th>\n",
       "      <th>Dim1</th>\n",
       "      <th>First Tooltip</th>\n",
       "    </tr>\n",
       "  </thead>\n",
       "  <tbody>\n",
       "    <tr>\n",
       "      <th>0</th>\n",
       "      <td>2000</td>\n",
       "      <td>Both sexes</td>\n",
       "      <td>1983.1</td>\n",
       "    </tr>\n",
       "    <tr>\n",
       "      <th>3</th>\n",
       "      <td>2005</td>\n",
       "      <td>Both sexes</td>\n",
       "      <td>1892.7</td>\n",
       "    </tr>\n",
       "    <tr>\n",
       "      <th>6</th>\n",
       "      <td>2010</td>\n",
       "      <td>Both sexes</td>\n",
       "      <td>1801.7</td>\n",
       "    </tr>\n",
       "    <tr>\n",
       "      <th>9</th>\n",
       "      <td>2015</td>\n",
       "      <td>Both sexes</td>\n",
       "      <td>1717.0</td>\n",
       "    </tr>\n",
       "    <tr>\n",
       "      <th>12</th>\n",
       "      <td>2016</td>\n",
       "      <td>Both sexes</td>\n",
       "      <td>2.3</td>\n",
       "    </tr>\n",
       "  </tbody>\n",
       "</table>\n",
       "</div>"
      ],
      "text/plain": [
       "   Period        Dim1  First Tooltip\n",
       "0    2000  Both sexes         1983.1\n",
       "3    2005  Both sexes         1892.7\n",
       "6    2010  Both sexes         1801.7\n",
       "9    2015  Both sexes         1717.0\n",
       "12   2016  Both sexes            2.3"
      ]
     },
     "metadata": {},
     "output_type": "display_data"
    }
   ],
   "source": [
    "df_yrboth = df_yrsort[:5]\n",
    "df_yrfemale = df_yrsort[5:10]\n",
    "df_yrmale = df_yrsort[10:15]\n",
    "display(yr_both)"
   ]
  },
  {
   "cell_type": "code",
   "execution_count": 55,
   "id": "intimate-religion",
   "metadata": {},
   "outputs": [
    {
     "name": "stdout",
     "output_type": "stream",
     "text": [
      "[2000, 2005, 2010, 2015, 2016]\n"
     ]
    }
   ],
   "source": [
    "year = [2000,2005,2010,2015,2016]\n",
    "print(year)"
   ]
  },
  {
   "cell_type": "code",
   "execution_count": 56,
   "id": "standing-onion",
   "metadata": {},
   "outputs": [
    {
     "name": "stderr",
     "output_type": "stream",
     "text": [
      "<ipython-input-56-f5e45c202c91>:15: MatplotlibDeprecationWarning: Adding an axes using the same arguments as a previous axes currently reuses the earlier instance.  In a future version, a new instance will always be created and returned.  Meanwhile, this warning can be suppressed, and the future behavior ensured, by passing a unique label to each axes instance.\n",
      "  plt.subplot(3, 1, 1)\n",
      "<ipython-input-56-f5e45c202c91>:24: MatplotlibDeprecationWarning: Adding an axes using the same arguments as a previous axes currently reuses the earlier instance.  In a future version, a new instance will always be created and returned.  Meanwhile, this warning can be suppressed, and the future behavior ensured, by passing a unique label to each axes instance.\n",
      "  plt.subplot(3, 1, 1)\n"
     ]
    },
    {
     "data": {
      "image/png": "[encoded data removed]",
      "text/plain": [
       "<Figure size 432x288 with 1 Axes>"
      ]
     },
     "metadata": {
      "needs_background": "light"
     },
     "output_type": "display_data"
    }
   ],
   "source": [
    "x = np.array(year)\n",
    "\n",
    "#Both sexes\n",
    "y = np.array(df_yrboth['First Tooltip'])\n",
    "\n",
    "plt.subplot(3, 1, 1)\n",
    "plt.plot(x,y, color='green', label='Both sexes')\n",
    "z = np.polyfit(x, y, 1)\n",
    "p = np.poly1d(z)\n",
    "plt.plot(x,p(x),\"r--\", color='green')\n",
    "\n",
    "#Male\n",
    "y = np.array(df_yrmale['First Tooltip'])\n",
    "\n",
    "plt.subplot(3, 1, 1)\n",
    "plt.plot(x,y, color='blue', label='Male')\n",
    "z = np.polyfit(x, y, 1)\n",
    "p = np.poly1d(z)\n",
    "plt.plot(x,p(x),\"r--\", color='blue')\n",
    "\n",
    "#Female\n",
    "y = np.array(df_yrfemale['First Tooltip'])\n",
    "\n",
    "plt.subplot(3, 1, 1)\n",
    "plt.plot(x,y, color='orange', label='Female')\n",
    "z = np.polyfit(x, y, 1)\n",
    "p = np.poly1d(z)\n",
    "plt.plot(x,p(x),\"r--\", color='orange')\n",
    "\n",
    "plt.suptitle(\"Trend Suicide Rate\")\n",
    "plt.xlabel('Periods')\n",
    "plt.ylabel('Total Rates')\n",
    "plt.legend()\n",
    "plt.ylim(0, 4000)\n",
    "plt.show();"
   ]
  },
  {
   "cell_type": "code",
   "execution_count": null,
   "id": "operational-earthquake",
   "metadata": {},
   "outputs": [],
   "source": []
  }
 ],
 "metadata": {
  "kernelspec": {
   "display_name": "Python 3",
   "language": "python",
   "name": "python3"
  },
  "language_info": {
   "codemirror_mode": {
    "name": "ipython",
    "version": 3
   },
   "file_extension": ".py",
   "mimetype": "text/x-python",
   "name": "python",
   "nbconvert_exporter": "python",
   "pygments_lexer": "ipython3",
   "version": "3.9.2"
  }
 },
 "nbformat": 4,
 "nbformat_minor": 5
}

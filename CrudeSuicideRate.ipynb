{
 "cells": [
  {
   "cell_type": "markdown",
   "id": "surrounded-venture",
   "metadata": {
    "slideshow": {
     "slide_type": "slide"
    }
   },
   "source": [
    "# Project - Crude Suicide Rates"
   ]
  },
  {
   "cell_type": "code",
   "execution_count": 1,
   "id": "plastic-suicide",
   "metadata": {
    "slideshow": {
     "slide_type": "skip"
    }
   },
   "outputs": [],
   "source": [
    "%matplotlib inline\n",
    "import matplotlib.pyplot as plt\n",
    "import matplotlib.cm as cm\n",
    "import seaborn as sb\n",
    "import numpy as np\n",
    "import pandas as pd"
   ]
  },
  {
   "cell_type": "code",
   "execution_count": 2,
   "id": "annual-omaha",
   "metadata": {
    "scrolled": true,
    "slideshow": {
     "slide_type": "slide"
    }
   },
   "outputs": [
    {
     "data": {
      "text/html": [
       "<div>\n",
       "<style scoped>\n",
       "    .dataframe tbody tr th:only-of-type {\n",
       "        vertical-align: middle;\n",
       "    }\n",
       "\n",
       "    .dataframe tbody tr th {\n",
       "        vertical-align: top;\n",
       "    }\n",
       "\n",
       "    .dataframe thead th {\n",
       "        text-align: right;\n",
       "    }\n",
       "</style>\n",
       "<table border=\"1\" class=\"dataframe\">\n",
       "  <thead>\n",
       "    <tr style=\"text-align: right;\">\n",
       "      <th></th>\n",
       "      <th>Location</th>\n",
       "      <th>Period</th>\n",
       "      <th>Indicator</th>\n",
       "      <th>Dim1</th>\n",
       "      <th>First Tooltip</th>\n",
       "    </tr>\n",
       "  </thead>\n",
       "  <tbody>\n",
       "    <tr>\n",
       "      <th>0</th>\n",
       "      <td>Afghanistan</td>\n",
       "      <td>2016</td>\n",
       "      <td>Crude suicide rates (per 100 000 population)</td>\n",
       "      <td>Both sexes</td>\n",
       "      <td>0.0</td>\n",
       "    </tr>\n",
       "    <tr>\n",
       "      <th>1</th>\n",
       "      <td>Afghanistan</td>\n",
       "      <td>2016</td>\n",
       "      <td>Crude suicide rates (per 100 000 population)</td>\n",
       "      <td>Male</td>\n",
       "      <td>0.0</td>\n",
       "    </tr>\n",
       "    <tr>\n",
       "      <th>2</th>\n",
       "      <td>Afghanistan</td>\n",
       "      <td>2016</td>\n",
       "      <td>Crude suicide rates (per 100 000 population)</td>\n",
       "      <td>Female</td>\n",
       "      <td>0.0</td>\n",
       "    </tr>\n",
       "  </tbody>\n",
       "</table>\n",
       "</div>"
      ],
      "text/plain": [
       "      Location  Period                                     Indicator  \\\n",
       "0  Afghanistan    2016  Crude suicide rates (per 100 000 population)   \n",
       "1  Afghanistan    2016  Crude suicide rates (per 100 000 population)   \n",
       "2  Afghanistan    2016  Crude suicide rates (per 100 000 population)   \n",
       "\n",
       "         Dim1  First Tooltip  \n",
       "0  Both sexes            0.0  \n",
       "1        Male            0.0  \n",
       "2      Female            0.0  "
      ]
     },
     "metadata": {},
     "output_type": "display_data"
    }
   ],
   "source": [
    "filename = './crudeSuicideRates.csv'\n",
    "df = pd.read_csv(filename)\n",
    "display(df.head(3))"
   ]
  },
  {
   "cell_type": "code",
   "execution_count": 3,
   "id": "welcome-dance",
   "metadata": {
    "slideshow": {
     "slide_type": "skip"
    }
   },
   "outputs": [],
   "source": [
    "df = pd.DataFrame(df, columns=['Location','First Tooltip','Dim1', 'Period'])"
   ]
  },
  {
   "cell_type": "markdown",
   "id": "asian-senegal",
   "metadata": {
    "slideshow": {
     "slide_type": "slide"
    }
   },
   "source": [
    "### 1. Find total number of suicide rates for each country."
   ]
  },
  {
   "cell_type": "code",
   "execution_count": 4,
   "id": "extreme-convergence",
   "metadata": {},
   "outputs": [],
   "source": [
    "locations = df.Location.unique()\n",
    "\n",
    "data = []\n",
    "\n",
    "def select_loc (loc = locations):\n",
    "    select_location = df.loc[df['Location'] == loc]\n",
    "    #print(select_location)\n",
    "    sum_loc = select_location['First Tooltip'].sum(axis=0)\n",
    "    data.append(sum_loc)\n",
    "    return sum_loc"
   ]
  },
  {
   "cell_type": "code",
   "execution_count": 5,
   "id": "honey-surprise",
   "metadata": {
    "slideshow": {
     "slide_type": "skip"
    }
   },
   "outputs": [
    {
     "name": "stdout",
     "output_type": "stream",
     "text": [
      "0\n"
     ]
    }
   ],
   "source": [
    "print(len(data))"
   ]
  },
  {
   "cell_type": "code",
   "execution_count": 6,
   "id": "afraid-riverside",
   "metadata": {
    "scrolled": true
   },
   "outputs": [],
   "source": [
    "for loc in locations:\n",
    "    all_loc = select_loc(loc)\n",
    "    #print(all_loc)"
   ]
  },
  {
   "cell_type": "markdown",
   "id": "confirmed-stadium",
   "metadata": {
    "slideshow": {
     "slide_type": "slide"
    }
   },
   "source": [
    "### 2. Matching the total number of Suicice Rate to each country"
   ]
  },
  {
   "cell_type": "code",
   "execution_count": 7,
   "id": "liable-stephen",
   "metadata": {},
   "outputs": [],
   "source": [
    "all_locations = []\n",
    "for loc in locations:\n",
    "    if loc not in all_locations:\n",
    "        all_locations.append(loc)"
   ]
  },
  {
   "cell_type": "code",
   "execution_count": 8,
   "id": "distinct-picnic",
   "metadata": {
    "slideshow": {
     "slide_type": "skip"
    }
   },
   "outputs": [
    {
     "name": "stdout",
     "output_type": "stream",
     "text": [
      "184\n"
     ]
    }
   ],
   "source": [
    "print(len(all_locations))"
   ]
  },
  {
   "cell_type": "code",
   "execution_count": 9,
   "id": "magnetic-conference",
   "metadata": {},
   "outputs": [],
   "source": [
    "d1 = {'Location':  all_locations, 'TotalRate': data}\n",
    "df1 = pd.DataFrame (d1, columns = ['Location','TotalRate'])\n",
    "\n",
    "sort_d = df1.sort_values(by=['TotalRate'], inplace=True)"
   ]
  },
  {
   "cell_type": "code",
   "execution_count": 10,
   "id": "empirical-teacher",
   "metadata": {
    "slideshow": {
     "slide_type": "fragment"
    }
   },
   "outputs": [
    {
     "name": "stdout",
     "output_type": "stream",
     "text": [
      "                 Location  TotalRate\n",
      "4     Antigua and Barbuda       13.0\n",
      "66                Grenada       19.8\n",
      "160  Syrian Arab Republic       20.1\n",
      "10                Bahamas       24.1\n",
      "155                 Sudan       24.1\n",
      "..                    ...        ...\n",
      "171               Ukraine      377.8\n",
      "85             Kazakhstan      399.5\n",
      "14                Belarus      473.0\n",
      "96              Lithuania      517.5\n",
      "135    Russian Federation      546.7\n",
      "\n",
      "[184 rows x 2 columns]\n"
     ]
    }
   ],
   "source": [
    "print(df1)"
   ]
  },
  {
   "cell_type": "markdown",
   "id": "established-nature",
   "metadata": {
    "slideshow": {
     "slide_type": "slide"
    }
   },
   "source": [
    "### 3. Listing the top 10 countries that have the highest/lowest rate"
   ]
  },
  {
   "cell_type": "markdown",
   "id": "underlying-greece",
   "metadata": {
    "slideshow": {
     "slide_type": "slide"
    }
   },
   "source": [
    "### Least 10 Countries"
   ]
  },
  {
   "cell_type": "code",
   "execution_count": 11,
   "id": "ambient-discount",
   "metadata": {},
   "outputs": [],
   "source": [
    "least10_tot = df1.TotalRate[:10]\n",
    "least10_loc = df1.Location[:10]\n",
    "\n",
    "#print(least10_tot, least10_loc)"
   ]
  },
  {
   "cell_type": "code",
   "execution_count": 12,
   "id": "verbal-citation",
   "metadata": {
    "slideshow": {
     "slide_type": "fragment"
    }
   },
   "outputs": [
    {
     "data": {
      "image/png": "[encoded data removed]",
      "text/plain": [
       "<Figure size 432x288 with 1 Axes>"
      ]
     },
     "metadata": {
      "needs_background": "light"
     },
     "output_type": "display_data"
    }
   ],
   "source": [
    "plt.barh(least10_loc, least10_tot);\n",
    "\n",
    "plt.title('Least 10 Locations', fontsize=16)\n",
    "plt.ylabel('Location', fontsize=14)\n",
    "plt.xlabel('Total Rate', fontsize=14);"
   ]
  },
  {
   "cell_type": "markdown",
   "id": "declared-refrigerator",
   "metadata": {
    "slideshow": {
     "slide_type": "fragment"
    }
   },
   "source": [
    "Figure above shows Antigua and Barbuda has the least Total Suicide Rate of 13 per 100 000 population"
   ]
  },
  {
   "cell_type": "markdown",
   "id": "understanding-aerospace",
   "metadata": {
    "slideshow": {
     "slide_type": "slide"
    }
   },
   "source": [
    "### Top 10 locations"
   ]
  },
  {
   "cell_type": "code",
   "execution_count": 13,
   "id": "similar-capacity",
   "metadata": {},
   "outputs": [],
   "source": [
    "top10_tot = df1.TotalRate.tail(10)\n",
    "top10_loc = df1.Location.tail(10)\n",
    "\n",
    "#print(top10_tot,top10_loc)"
   ]
  },
  {
   "cell_type": "code",
   "execution_count": 14,
   "id": "controversial-glance",
   "metadata": {
    "slideshow": {
     "slide_type": "fragment"
    }
   },
   "outputs": [
    {
     "data": {
      "image/png": "[encoded data removed]",
      "text/plain": [
       "<Figure size 432x288 with 1 Axes>"
      ]
     },
     "metadata": {
      "needs_background": "light"
     },
     "output_type": "display_data"
    }
   ],
   "source": [
    "plt.barh(top10_loc, top10_tot);\n",
    "\n",
    "plt.title('Top 10 Locations', fontsize=16)\n",
    "plt.ylabel('Location', fontsize=14)\n",
    "plt.xlabel('Total Rate', fontsize=14);"
   ]
  },
  {
   "cell_type": "markdown",
   "id": "finished-telephone",
   "metadata": {
    "slideshow": {
     "slide_type": "fragment"
    }
   },
   "source": [
    "Figure above shows Russian Federation has the highest Total Suicide Rate of 546.7 per 100 000 population"
   ]
  },
  {
   "cell_type": "markdown",
   "id": "periodic-polish",
   "metadata": {
    "slideshow": {
     "slide_type": "slide"
    }
   },
   "source": [
    "### 4. Finding the Average \n",
    "* Avg = (Total Rate/3) because theres 3 groups(Both sexes, Female, Male)"
   ]
  },
  {
   "cell_type": "markdown",
   "id": "hourly-knock",
   "metadata": {
    "slideshow": {
     "slide_type": "slide"
    }
   },
   "source": [
    "### least 10 locations"
   ]
  },
  {
   "cell_type": "code",
   "execution_count": 15,
   "id": "continued-dragon",
   "metadata": {},
   "outputs": [],
   "source": [
    "least10_avgrate = least10_tot/3\n",
    "\n",
    "#print(least10_avgrate, least10_loc)"
   ]
  },
  {
   "cell_type": "code",
   "execution_count": 16,
   "id": "protected-accuracy",
   "metadata": {},
   "outputs": [
    {
     "data": {
      "image/png": "[encoded data removed]",
      "text/plain": [
       "<Figure size 432x288 with 1 Axes>"
      ]
     },
     "metadata": {
      "needs_background": "light"
     },
     "output_type": "display_data"
    }
   ],
   "source": [
    "plt.barh(least10_loc, least10_avgrate);\n",
    "\n",
    "plt.title('Least 10 Locations', fontsize=16)\n",
    "plt.ylabel('Location', fontsize=14)\n",
    "plt.xlabel('Average Rate', fontsize=14);"
   ]
  },
  {
   "cell_type": "markdown",
   "id": "under-composite",
   "metadata": {
    "slideshow": {
     "slide_type": "fragment"
    }
   },
   "source": [
    "Figure above shows Antigua and Barbuda has the least Average Suicide Rate of 4.33"
   ]
  },
  {
   "cell_type": "markdown",
   "id": "familiar-warning",
   "metadata": {
    "slideshow": {
     "slide_type": "slide"
    }
   },
   "source": [
    "### top 10 locations"
   ]
  },
  {
   "cell_type": "code",
   "execution_count": 17,
   "id": "regional-individual",
   "metadata": {},
   "outputs": [],
   "source": [
    "top10_avgrate = top10_tot/3\n",
    "\n",
    "#print(top10_avgrate, top10_loc)"
   ]
  },
  {
   "cell_type": "code",
   "execution_count": 18,
   "id": "twelve-chambers",
   "metadata": {
    "slideshow": {
     "slide_type": "fragment"
    }
   },
   "outputs": [
    {
     "data": {
      "image/png": "[encoded data removed]",
      "text/plain": [
       "<Figure size 432x288 with 1 Axes>"
      ]
     },
     "metadata": {
      "needs_background": "light"
     },
     "output_type": "display_data"
    }
   ],
   "source": [
    "plt.barh(top10_loc, top10_avgrate);\n",
    "\n",
    "plt.title('Top 10 Locations')\n",
    "plt.ylabel('Location')\n",
    "plt.xlabel('Average Rate');"
   ]
  },
  {
   "cell_type": "markdown",
   "id": "amended-confidence",
   "metadata": {
    "slideshow": {
     "slide_type": "fragment"
    }
   },
   "source": [
    "Figure above shows Russian Federation has the highest Average Suicide Rate of 182.23"
   ]
  },
  {
   "cell_type": "markdown",
   "id": "understanding-favor",
   "metadata": {
    "slideshow": {
     "slide_type": "slide"
    }
   },
   "source": [
    "### 5. Separating the groups (Male, Female, Both Sex)"
   ]
  },
  {
   "cell_type": "code",
   "execution_count": 19,
   "id": "pediatric-rebound",
   "metadata": {},
   "outputs": [],
   "source": [
    "gender = df.Dim1.unique()\n",
    "#print(gender)"
   ]
  },
  {
   "cell_type": "code",
   "execution_count": 20,
   "id": "hungry-bench",
   "metadata": {
    "slideshow": {
     "slide_type": "fragment"
    }
   },
   "outputs": [
    {
     "data": {
      "text/plain": [
       "Dim1\n",
       "Both sexes     7396.8\n",
       "Female         3902.3\n",
       "Male          11017.5\n",
       "Name: First Tooltip, dtype: float64"
      ]
     },
     "execution_count": 20,
     "metadata": {},
     "output_type": "execute_result"
    }
   ],
   "source": [
    "df.groupby('Dim1')['First Tooltip'].sum()"
   ]
  },
  {
   "cell_type": "code",
   "execution_count": 21,
   "id": "elect-campaign",
   "metadata": {},
   "outputs": [],
   "source": [
    "sum_gen = df.groupby([\"Location\", \"Dim1\"])['First Tooltip'].sum()\n",
    "#print(sum_gen)"
   ]
  },
  {
   "cell_type": "markdown",
   "id": "polar-vulnerability",
   "metadata": {
    "slideshow": {
     "slide_type": "slide"
    }
   },
   "source": [
    "* Adding the values together according to gender and location"
   ]
  },
  {
   "cell_type": "code",
   "execution_count": 22,
   "id": "turkish-therapy",
   "metadata": {},
   "outputs": [],
   "source": [
    "bs = []\n",
    "m = []\n",
    "f = []\n",
    "\n",
    "for gen in gender:\n",
    "    for loc in locations:\n",
    "        if gen == 'Both sexes':\n",
    "            bs.append(sum_gen[loc, 'Both sexes'])\n",
    "        if gen == 'Male':\n",
    "            m.append(sum_gen[loc, 'Male'])\n",
    "        if gen == 'Female':\n",
    "            f.append(sum_gen[loc, 'Female'])\n",
    "    "
   ]
  },
  {
   "cell_type": "markdown",
   "id": "architectural-essay",
   "metadata": {
    "slideshow": {
     "slide_type": "slide"
    }
   },
   "source": [
    "* creating DataFrame for each gender and combine into one table"
   ]
  },
  {
   "cell_type": "code",
   "execution_count": 23,
   "id": "competent-louis",
   "metadata": {},
   "outputs": [
    {
     "data": {
      "text/html": [
       "<div>\n",
       "<style scoped>\n",
       "    .dataframe tbody tr th:only-of-type {\n",
       "        vertical-align: middle;\n",
       "    }\n",
       "\n",
       "    .dataframe tbody tr th {\n",
       "        vertical-align: top;\n",
       "    }\n",
       "\n",
       "    .dataframe thead th {\n",
       "        text-align: right;\n",
       "    }\n",
       "</style>\n",
       "<table border=\"1\" class=\"dataframe\">\n",
       "  <thead>\n",
       "    <tr style=\"text-align: right;\">\n",
       "      <th></th>\n",
       "      <th>Location</th>\n",
       "      <th>TotalRate</th>\n",
       "      <th>Gender</th>\n",
       "    </tr>\n",
       "  </thead>\n",
       "  <tbody>\n",
       "    <tr>\n",
       "      <th>0</th>\n",
       "      <td>Afghanistan</td>\n",
       "      <td>21.9</td>\n",
       "      <td>Both sexes</td>\n",
       "    </tr>\n",
       "    <tr>\n",
       "      <th>0</th>\n",
       "      <td>Afghanistan</td>\n",
       "      <td>5.4</td>\n",
       "      <td>Female</td>\n",
       "    </tr>\n",
       "    <tr>\n",
       "      <th>0</th>\n",
       "      <td>Afghanistan</td>\n",
       "      <td>37.2</td>\n",
       "      <td>Male</td>\n",
       "    </tr>\n",
       "  </tbody>\n",
       "</table>\n",
       "</div>"
      ],
      "text/plain": [
       "      Location  TotalRate      Gender\n",
       "0  Afghanistan       21.9  Both sexes\n",
       "0  Afghanistan        5.4      Female\n",
       "0  Afghanistan       37.2        Male"
      ]
     },
     "metadata": {},
     "output_type": "display_data"
    }
   ],
   "source": [
    "both = {'Location':  all_locations, 'TotalRate': bs, 'Gender': 'Both sexes'}\n",
    "df_both = pd.DataFrame (both, columns = ['Location','TotalRate', 'Gender'])\n",
    "\n",
    "female = {'Location':  all_locations, 'TotalRate': f, 'Gender': 'Female'}\n",
    "df_female = pd.DataFrame (female, columns = ['Location','TotalRate', 'Gender'])\n",
    "\n",
    "male = {'Location':  all_locations, 'TotalRate': m, 'Gender': 'Male'}\n",
    "df_male = pd.DataFrame (male, columns = ['Location','TotalRate', 'Gender'])\n",
    "\n",
    "all_ = pd.concat([df_both, df_female, df_male], axis=0)\n",
    "sort_all_ = all_.sort_values(by=['Location'], inplace=True)\n",
    "\n",
    "display(all_.head(3))"
   ]
  },
  {
   "cell_type": "code",
   "execution_count": 33,
   "id": "excited-problem",
   "metadata": {
    "slideshow": {
     "slide_type": "slide"
    }
   },
   "outputs": [
    {
     "data": {
      "image/png": "[encoded data removed]",
      "text/plain": [
       "<Figure size 432x288 with 1 Axes>"
      ]
     },
     "metadata": {
      "needs_background": "light"
     },
     "output_type": "display_data"
    }
   ],
   "source": [
    "plt.scatter(data=all_, y='TotalRate', x='Gender');\n",
    "plt.title('', fontsize=16)\n",
    "plt.ylabel('Gender', fontsize=14)\n",
    "plt.xlabel('Total Rate', fontsize=14);"
   ]
  },
  {
   "cell_type": "markdown",
   "id": "framed-bruce",
   "metadata": {
    "slideshow": {
     "slide_type": "fragment"
    }
   },
   "source": [
    "Figure above shows Male has the highest Suicide Rate and Female have the lowest Suicide Rate"
   ]
  },
  {
   "cell_type": "markdown",
   "id": "endangered-turkey",
   "metadata": {
    "slideshow": {
     "slide_type": "slide"
    }
   },
   "source": [
    "### 6. Separating the groups (Period: 2000, 2005, 2010, 2015, 2016)"
   ]
  },
  {
   "cell_type": "markdown",
   "id": "cathedral-being",
   "metadata": {
    "slideshow": {
     "slide_type": "slide"
    }
   },
   "source": [
    "* Adding values according to respective year and genders"
   ]
  },
  {
   "cell_type": "code",
   "execution_count": 25,
   "id": "turkish-counter",
   "metadata": {},
   "outputs": [],
   "source": [
    "sum_yr = df.groupby([\"Period\", \"Dim1\"])['First Tooltip'].sum()\n",
    "#print(sum_yr)"
   ]
  },
  {
   "cell_type": "code",
   "execution_count": 26,
   "id": "norwegian-monday",
   "metadata": {},
   "outputs": [],
   "source": [
    "#type(sum_yr)\n",
    "#sum_yr.index"
   ]
  },
  {
   "cell_type": "markdown",
   "id": "foreign-naples",
   "metadata": {
    "slideshow": {
     "slide_type": "slide"
    }
   },
   "source": [
    "* creating the table"
   ]
  },
  {
   "cell_type": "code",
   "execution_count": 27,
   "id": "current-morocco",
   "metadata": {},
   "outputs": [],
   "source": [
    "df_yrgen = sum_yr.add_suffix('').reset_index().sort_values('Dim1')\n",
    "#display(df_yrgen)"
   ]
  },
  {
   "cell_type": "markdown",
   "id": "centered-joshua",
   "metadata": {
    "slideshow": {
     "slide_type": "slide"
    }
   },
   "source": [
    "* arranging according to respective gender"
   ]
  },
  {
   "cell_type": "code",
   "execution_count": 28,
   "id": "functional-allowance",
   "metadata": {},
   "outputs": [],
   "source": [
    "df_yrboth = df_yrgen[:5]\n",
    "df_yrfemale = df_yrgen[5:10]\n",
    "df_yrmale = df_yrgen[10:15]\n",
    "#display(df_yrboth)"
   ]
  },
  {
   "cell_type": "code",
   "execution_count": 29,
   "id": "hungry-serial",
   "metadata": {},
   "outputs": [
    {
     "name": "stdout",
     "output_type": "stream",
     "text": [
      "[2000, 2005, 2010, 2015, 2016]\n"
     ]
    }
   ],
   "source": [
    "year = [2000,2005,2010,2015,2016]\n",
    "print(year)"
   ]
  },
  {
   "cell_type": "markdown",
   "id": "studied-heating",
   "metadata": {
    "slideshow": {
     "slide_type": "slide"
    }
   },
   "source": [
    "* Plotting the graph"
   ]
  },
  {
   "cell_type": "code",
   "execution_count": 37,
   "id": "injured-stations",
   "metadata": {
    "slideshow": {
     "slide_type": "-"
    }
   },
   "outputs": [
    {
     "data": {
      "image/png": "[encoded data removed]",
      "text/plain": [
       "<Figure size 432x288 with 1 Axes>"
      ]
     },
     "metadata": {
      "needs_background": "light"
     },
     "output_type": "display_data"
    }
   ],
   "source": [
    "x = np.array(year)\n",
    "\n",
    "#Both sexes\n",
    "y = np.array(df_yrboth['First Tooltip'])\n",
    "\n",
    "plt.plot(x,y, color='blue', label='Both sexes')\n",
    "z = np.polyfit(x, y, 1)\n",
    "p = np.poly1d(z)\n",
    "plt.plot(x,p(x),\"r--\", color='blue') #drawing the trend\n",
    "\n",
    "\n",
    "#Male\n",
    "y = np.array(df_yrmale['First Tooltip'])\n",
    "\n",
    "plt.plot(x,y, color='red', label='Male')\n",
    "z = np.polyfit(x, y, 1)\n",
    "p = np.poly1d(z)\n",
    "plt.plot(x,p(x),\"r--\", color='red')\n",
    "\n",
    "\n",
    "#Female\n",
    "y = np.array(df_yrfemale['First Tooltip'])\n",
    "\n",
    "plt.plot(x,y, color='orange', label='Female')\n",
    "z = np.polyfit(x, y, 1)\n",
    "p = np.poly1d(z)\n",
    "plt.plot(x,p(x),\"r--\", color='orange')\n",
    "\n",
    "plt.title(\"Trend Suicide Rate\", fontsize=16)\n",
    "plt.xlabel('Periods', fontsize=14)\n",
    "plt.ylabel('Total Rates', fontsize=14)\n",
    "plt.legend()\n",
    "plt.show();"
   ]
  },
  {
   "cell_type": "markdown",
   "id": "atomic-assault",
   "metadata": {
    "slideshow": {
     "slide_type": "fragment"
    }
   },
   "source": [
    "Figure above shows the trend decreases over the year from 2000 to 2016, with a steep decrease from 2015 to 2016 (Possible due to not enough data collected in 2016)"
   ]
  },
  {
   "cell_type": "code",
   "execution_count": 31,
   "id": "unusual-editing",
   "metadata": {
    "slideshow": {
     "slide_type": "fragment"
    }
   },
   "outputs": [
    {
     "data": {
      "text/html": [
       "<div>\n",
       "<style scoped>\n",
       "    .dataframe tbody tr th:only-of-type {\n",
       "        vertical-align: middle;\n",
       "    }\n",
       "\n",
       "    .dataframe tbody tr th {\n",
       "        vertical-align: top;\n",
       "    }\n",
       "\n",
       "    .dataframe thead th {\n",
       "        text-align: right;\n",
       "    }\n",
       "</style>\n",
       "<table border=\"1\" class=\"dataframe\">\n",
       "  <thead>\n",
       "    <tr style=\"text-align: right;\">\n",
       "      <th></th>\n",
       "      <th>Period</th>\n",
       "      <th>Dim1</th>\n",
       "      <th>First Tooltip</th>\n",
       "    </tr>\n",
       "  </thead>\n",
       "  <tbody>\n",
       "    <tr>\n",
       "      <th>12</th>\n",
       "      <td>2016</td>\n",
       "      <td>Both sexes</td>\n",
       "      <td>2.3</td>\n",
       "    </tr>\n",
       "    <tr>\n",
       "      <th>13</th>\n",
       "      <td>2016</td>\n",
       "      <td>Female</td>\n",
       "      <td>1.6</td>\n",
       "    </tr>\n",
       "    <tr>\n",
       "      <th>14</th>\n",
       "      <td>2016</td>\n",
       "      <td>Male</td>\n",
       "      <td>3.4</td>\n",
       "    </tr>\n",
       "  </tbody>\n",
       "</table>\n",
       "</div>"
      ],
      "text/plain": [
       "   Period        Dim1  First Tooltip\n",
       "12   2016  Both sexes            2.3\n",
       "13   2016      Female            1.6\n",
       "14   2016        Male            3.4"
      ]
     },
     "metadata": {},
     "output_type": "display_data"
    }
   ],
   "source": [
    "df_yr = sum_yr.add_suffix('').reset_index().sort_values('Period')\n",
    "display(df_yr.tail(3))"
   ]
  },
  {
   "cell_type": "code",
   "execution_count": null,
   "id": "imposed-circus",
   "metadata": {},
   "outputs": [],
   "source": [
    "!jupyter nbconvert CrudeSuicideRate.ipynb --to slides --post serve"
   ]
  },
  {
   "cell_type": "code",
   "execution_count": null,
   "id": "decreased-evening",
   "metadata": {},
   "outputs": [],
   "source": []
  },
  {
   "cell_type": "code",
   "execution_count": null,
   "id": "peripheral-syndication",
   "metadata": {},
   "outputs": [],
   "source": []
  }
 ],
 "metadata": {
  "celltoolbar": "Slideshow",
  "kernelspec": {
   "display_name": "Python 3",
   "language": "python",
   "name": "python3"
  },
  "language_info": {
   "codemirror_mode": {
    "name": "ipython",
    "version": 3
   },
   "file_extension": ".py",
   "mimetype": "text/x-python",
   "name": "python",
   "nbconvert_exporter": "python",
   "pygments_lexer": "ipython3",
   "version": "3.9.2"
  }
 },
 "nbformat": 4,
 "nbformat_minor": 5
}

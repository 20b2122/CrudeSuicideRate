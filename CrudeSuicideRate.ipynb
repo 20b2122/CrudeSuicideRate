{
 "cells": [
  {
   "cell_type": "markdown",
   "id": "surrounded-venture",
   "metadata": {},
   "source": [
    "# Project - Crude Suicide Rates"
   ]
  },
  {
   "cell_type": "code",
   "execution_count": 1,
   "id": "plastic-suicide",
   "metadata": {},
   "outputs": [],
   "source": [
    "%matplotlib inline\n",
    "import matplotlib.pyplot as plt\n",
    "import matplotlib.cm as cm\n",
    "import seaborn as sb\n",
    "import numpy as np\n",
    "import pandas as pd"
   ]
  },
  {
   "cell_type": "code",
   "execution_count": 2,
   "id": "annual-omaha",
   "metadata": {
    "scrolled": true
   },
   "outputs": [],
   "source": [
    "filename = './crudeSuicideRates.csv'\n",
    "df = pd.read_csv(filename)"
   ]
  },
  {
   "cell_type": "code",
   "execution_count": 3,
   "id": "welcome-dance",
   "metadata": {},
   "outputs": [],
   "source": [
    "df = pd.DataFrame(df, columns=['Location','First Tooltip','Dim1', 'Period'])"
   ]
  },
  {
   "cell_type": "markdown",
   "id": "asian-senegal",
   "metadata": {},
   "source": [
    "### 1. Find total number of suicide rates for each country."
   ]
  },
  {
   "cell_type": "code",
   "execution_count": 4,
   "id": "extreme-convergence",
   "metadata": {},
   "outputs": [],
   "source": [
    "locations = df.Location.unique()\n",
    "\n",
    "data = []\n",
    "\n",
    "def select_loc (loc = locations):\n",
    "    select_location = df.loc[df['Location'] == loc]\n",
    "    #print(select_location)\n",
    "    sum_loc = select_location['First Tooltip'].sum(axis=0)\n",
    "    data.append(sum_loc)\n",
    "    return sum_loc"
   ]
  },
  {
   "cell_type": "code",
   "execution_count": 31,
   "id": "honey-surprise",
   "metadata": {},
   "outputs": [
    {
     "name": "stdout",
     "output_type": "stream",
     "text": [
      "184\n"
     ]
    }
   ],
   "source": [
    "print(len(data))"
   ]
  },
  {
   "cell_type": "code",
   "execution_count": 6,
   "id": "afraid-riverside",
   "metadata": {
    "scrolled": true
   },
   "outputs": [],
   "source": [
    "for loc in locations:\n",
    "    all_loc = select_loc(loc)\n",
    "    #print(all_loc)"
   ]
  },
  {
   "cell_type": "markdown",
   "id": "confirmed-stadium",
   "metadata": {},
   "source": [
    "### 2. Matching the total number of Suicice Rate to each country"
   ]
  },
  {
   "cell_type": "code",
   "execution_count": 7,
   "id": "liable-stephen",
   "metadata": {},
   "outputs": [],
   "source": [
    "all_locations = []\n",
    "for loc in locations:\n",
    "    if loc not in all_locations:\n",
    "        all_locations.append(loc)"
   ]
  },
  {
   "cell_type": "code",
   "execution_count": 8,
   "id": "distinct-picnic",
   "metadata": {},
   "outputs": [
    {
     "name": "stdout",
     "output_type": "stream",
     "text": [
      "184\n"
     ]
    }
   ],
   "source": [
    "print(len(all_locations))"
   ]
  },
  {
   "cell_type": "code",
   "execution_count": 9,
   "id": "magnetic-conference",
   "metadata": {},
   "outputs": [],
   "source": [
    "d1 = {'Location':  all_locations, 'TotalRate': data}\n",
    "df1 = pd.DataFrame (d1, columns = ['Location','TotalRate'])\n",
    "\n",
    "sort_d = df1.sort_values(by=['TotalRate'], inplace=True)\n",
    "\n",
    "#print(df1)"
   ]
  },
  {
   "cell_type": "markdown",
   "id": "established-nature",
   "metadata": {},
   "source": [
    "### 3. Listing the top 10 countries that have the highest/lowest rate"
   ]
  },
  {
   "cell_type": "markdown",
   "id": "underlying-greece",
   "metadata": {},
   "source": [
    "### Least 10 Countries"
   ]
  },
  {
   "cell_type": "code",
   "execution_count": 10,
   "id": "ambient-discount",
   "metadata": {},
   "outputs": [],
   "source": [
    "least10_tot = df1.TotalRate[:10]\n",
    "least10_loc = df1.Location[:10]\n",
    "\n",
    "#print(least10_tot, least10_loc)"
   ]
  },
  {
   "cell_type": "code",
   "execution_count": 11,
   "id": "verbal-citation",
   "metadata": {},
   "outputs": [
    {
     "data": {
      "image/png": "[encoded data removed]",
      "text/plain": [
       "<Figure size 432x288 with 1 Axes>"
      ]
     },
     "metadata": {
      "needs_background": "light"
     },
     "output_type": "display_data"
    }
   ],
   "source": [
    "plt.barh(least10_loc, least10_tot);\n",
    "\n",
    "plt.title('Least 10 Locations', fontsize=16)\n",
    "plt.ylabel('Location', fontsize=14)\n",
    "plt.xlabel('Total Rate', fontsize=14);"
   ]
  },
  {
   "cell_type": "markdown",
   "id": "declared-refrigerator",
   "metadata": {},
   "source": [
    "Figure above shows Antigua and Barbuda has the least Total Suicide Rate of 13 per 100 000 population"
   ]
  },
  {
   "cell_type": "markdown",
   "id": "understanding-aerospace",
   "metadata": {},
   "source": [
    "### Top 10 locations"
   ]
  },
  {
   "cell_type": "code",
   "execution_count": 12,
   "id": "similar-capacity",
   "metadata": {},
   "outputs": [],
   "source": [
    "top10_tot = df1.TotalRate.tail(10)\n",
    "top10_loc = df1.Location.tail(10)\n",
    "\n",
    "#print(top10_tot,top10_loc)"
   ]
  },
  {
   "cell_type": "code",
   "execution_count": 13,
   "id": "controversial-glance",
   "metadata": {},
   "outputs": [
    {
     "data": {
      "image/png": "[encoded data removed]",
      "text/plain": [
       "<Figure size 432x288 with 1 Axes>"
      ]
     },
     "metadata": {
      "needs_background": "light"
     },
     "output_type": "display_data"
    }
   ],
   "source": [
    "plt.barh(top10_loc, top10_tot);\n",
    "\n",
    "plt.title('Top 10 Locations', fontsize=16)\n",
    "plt.ylabel('Location', fontsize=14)\n",
    "plt.xlabel('Total Rate', fontsize=14);"
   ]
  },
  {
   "cell_type": "markdown",
   "id": "finished-telephone",
   "metadata": {},
   "source": [
    "Figure above shows Russian Federation has the highest Total Suicide Rate of 546.7 per 100 000 population"
   ]
  },
  {
   "cell_type": "markdown",
   "id": "periodic-polish",
   "metadata": {},
   "source": [
    "### 4. Finding the Average \n",
    "* Avg = (Total Rate/3) because theres 3 groups(Both sexes, Female, Male)"
   ]
  },
  {
   "cell_type": "markdown",
   "id": "hourly-knock",
   "metadata": {},
   "source": [
    "### least 10 locations"
   ]
  },
  {
   "cell_type": "code",
   "execution_count": 14,
   "id": "continued-dragon",
   "metadata": {},
   "outputs": [],
   "source": [
    "least10_avgrate = least10_tot/3\n",
    "\n",
    "#print(least10_avgrate, least10_loc)"
   ]
  },
  {
   "cell_type": "code",
   "execution_count": 15,
   "id": "protected-accuracy",
   "metadata": {},
   "outputs": [
    {
     "data": {
      "image/png": "[encoded data removed]",
      "text/plain": [
       "<Figure size 432x288 with 1 Axes>"
      ]
     },
     "metadata": {
      "needs_background": "light"
     },
     "output_type": "display_data"
    }
   ],
   "source": [
    "plt.barh(least10_loc, least10_avgrate);\n",
    "\n",
    "plt.title('Least 10 Locations', fontsize=16)\n",
    "plt.ylabel('Location', fontsize=14)\n",
    "plt.xlabel('Average Rate', fontsize=14);"
   ]
  },
  {
   "cell_type": "markdown",
   "id": "under-composite",
   "metadata": {},
   "source": [
    "Figure above shows Antigua and Barbuda has the least Average Suicide Rate of 4.33"
   ]
  },
  {
   "cell_type": "markdown",
   "id": "familiar-warning",
   "metadata": {},
   "source": [
    "### top 10 locations"
   ]
  },
  {
   "cell_type": "code",
   "execution_count": 16,
   "id": "regional-individual",
   "metadata": {},
   "outputs": [],
   "source": [
    "top10_avgrate = top10_tot/3\n",
    "\n",
    "#print(top10_avgrate, top10_loc)"
   ]
  },
  {
   "cell_type": "code",
   "execution_count": 17,
   "id": "twelve-chambers",
   "metadata": {},
   "outputs": [
    {
     "data": {
      "image/png": "[encoded data removed]",
      "text/plain": [
       "<Figure size 432x288 with 1 Axes>"
      ]
     },
     "metadata": {
      "needs_background": "light"
     },
     "output_type": "display_data"
    }
   ],
   "source": [
    "plt.barh(top10_loc, top10_avgrate);\n",
    "\n",
    "plt.title('Top 10 Locations')\n",
    "plt.ylabel('Location')\n",
    "plt.xlabel('Average Rate');"
   ]
  },
  {
   "cell_type": "markdown",
   "id": "amended-confidence",
   "metadata": {},
   "source": [
    "Figure above shows Russian Federation has the highest Average Suicide Rate of 182.23"
   ]
  },
  {
   "cell_type": "markdown",
   "id": "understanding-favor",
   "metadata": {},
   "source": [
    "### 5. Separating the groups (Male, Female, Both Sex)"
   ]
  },
  {
   "cell_type": "code",
   "execution_count": 18,
   "id": "pediatric-rebound",
   "metadata": {},
   "outputs": [],
   "source": [
    "gender = df.Dim1.unique()\n",
    "#print(gender)"
   ]
  },
  {
   "cell_type": "code",
   "execution_count": 19,
   "id": "hungry-bench",
   "metadata": {},
   "outputs": [
    {
     "data": {
      "text/plain": [
       "Dim1\n",
       "Both sexes     7396.8\n",
       "Female         3902.3\n",
       "Male          11017.5\n",
       "Name: First Tooltip, dtype: float64"
      ]
     },
     "execution_count": 19,
     "metadata": {},
     "output_type": "execute_result"
    }
   ],
   "source": [
    "df.groupby('Dim1')['First Tooltip'].sum()"
   ]
  },
  {
   "cell_type": "code",
   "execution_count": 20,
   "id": "elect-campaign",
   "metadata": {},
   "outputs": [],
   "source": [
    "sum_gen = df.groupby([\"Location\", \"Dim1\"])['First Tooltip'].sum()\n",
    "#print(sum_gen)"
   ]
  },
  {
   "cell_type": "markdown",
   "id": "polar-vulnerability",
   "metadata": {},
   "source": [
    "* Adding the values together according to gender and location"
   ]
  },
  {
   "cell_type": "code",
   "execution_count": 21,
   "id": "turkish-therapy",
   "metadata": {},
   "outputs": [],
   "source": [
    "bs = []\n",
    "m = []\n",
    "f = []\n",
    "\n",
    "for gen in gender:\n",
    "    for loc in locations:\n",
    "        if gen == 'Both sexes':\n",
    "            bs.append(sum_gen[loc, 'Both sexes'])\n",
    "        if gen == 'Male':\n",
    "            m.append(sum_gen[loc, 'Male'])\n",
    "        if gen == 'Female':\n",
    "            f.append(sum_gen[loc, 'Female'])\n",
    "    "
   ]
  },
  {
   "cell_type": "markdown",
   "id": "architectural-essay",
   "metadata": {},
   "source": [
    "* creating DataFrame for each gender and combine into one table"
   ]
  },
  {
   "cell_type": "code",
   "execution_count": 22,
   "id": "competent-louis",
   "metadata": {},
   "outputs": [
    {
     "data": {
      "text/html": [
       "<div>\n",
       "<style scoped>\n",
       "    .dataframe tbody tr th:only-of-type {\n",
       "        vertical-align: middle;\n",
       "    }\n",
       "\n",
       "    .dataframe tbody tr th {\n",
       "        vertical-align: top;\n",
       "    }\n",
       "\n",
       "    .dataframe thead th {\n",
       "        text-align: right;\n",
       "    }\n",
       "</style>\n",
       "<table border=\"1\" class=\"dataframe\">\n",
       "  <thead>\n",
       "    <tr style=\"text-align: right;\">\n",
       "      <th></th>\n",
       "      <th>Location</th>\n",
       "      <th>TotalRate</th>\n",
       "      <th>Gender</th>\n",
       "    </tr>\n",
       "  </thead>\n",
       "  <tbody>\n",
       "    <tr>\n",
       "      <th>0</th>\n",
       "      <td>Afghanistan</td>\n",
       "      <td>21.9</td>\n",
       "      <td>Both sexes</td>\n",
       "    </tr>\n",
       "    <tr>\n",
       "      <th>0</th>\n",
       "      <td>Afghanistan</td>\n",
       "      <td>5.4</td>\n",
       "      <td>Female</td>\n",
       "    </tr>\n",
       "    <tr>\n",
       "      <th>0</th>\n",
       "      <td>Afghanistan</td>\n",
       "      <td>37.2</td>\n",
       "      <td>Male</td>\n",
       "    </tr>\n",
       "    <tr>\n",
       "      <th>1</th>\n",
       "      <td>Albania</td>\n",
       "      <td>26.0</td>\n",
       "      <td>Both sexes</td>\n",
       "    </tr>\n",
       "    <tr>\n",
       "      <th>1</th>\n",
       "      <td>Albania</td>\n",
       "      <td>19.7</td>\n",
       "      <td>Female</td>\n",
       "    </tr>\n",
       "    <tr>\n",
       "      <th>...</th>\n",
       "      <td>...</td>\n",
       "      <td>...</td>\n",
       "      <td>...</td>\n",
       "    </tr>\n",
       "    <tr>\n",
       "      <th>182</th>\n",
       "      <td>Zambia</td>\n",
       "      <td>27.0</td>\n",
       "      <td>Both sexes</td>\n",
       "    </tr>\n",
       "    <tr>\n",
       "      <th>182</th>\n",
       "      <td>Zambia</td>\n",
       "      <td>15.5</td>\n",
       "      <td>Female</td>\n",
       "    </tr>\n",
       "    <tr>\n",
       "      <th>183</th>\n",
       "      <td>Zimbabwe</td>\n",
       "      <td>24.0</td>\n",
       "      <td>Female</td>\n",
       "    </tr>\n",
       "    <tr>\n",
       "      <th>183</th>\n",
       "      <td>Zimbabwe</td>\n",
       "      <td>49.3</td>\n",
       "      <td>Both sexes</td>\n",
       "    </tr>\n",
       "    <tr>\n",
       "      <th>183</th>\n",
       "      <td>Zimbabwe</td>\n",
       "      <td>75.9</td>\n",
       "      <td>Male</td>\n",
       "    </tr>\n",
       "  </tbody>\n",
       "</table>\n",
       "<p>552 rows × 3 columns</p>\n",
       "</div>"
      ],
      "text/plain": [
       "        Location  TotalRate      Gender\n",
       "0    Afghanistan       21.9  Both sexes\n",
       "0    Afghanistan        5.4      Female\n",
       "0    Afghanistan       37.2        Male\n",
       "1        Albania       26.0  Both sexes\n",
       "1        Albania       19.7      Female\n",
       "..           ...        ...         ...\n",
       "182       Zambia       27.0  Both sexes\n",
       "182       Zambia       15.5      Female\n",
       "183     Zimbabwe       24.0      Female\n",
       "183     Zimbabwe       49.3  Both sexes\n",
       "183     Zimbabwe       75.9        Male\n",
       "\n",
       "[552 rows x 3 columns]"
      ]
     },
     "metadata": {},
     "output_type": "display_data"
    }
   ],
   "source": [
    "both = {'Location':  all_locations, 'TotalRate': bs, 'Gender': 'Both sexes'}\n",
    "df_both = pd.DataFrame (both, columns = ['Location','TotalRate', 'Gender'])\n",
    "\n",
    "female = {'Location':  all_locations, 'TotalRate': f, 'Gender': 'Female'}\n",
    "df_female = pd.DataFrame (female, columns = ['Location','TotalRate', 'Gender'])\n",
    "\n",
    "male = {'Location':  all_locations, 'TotalRate': m, 'Gender': 'Male'}\n",
    "df_male = pd.DataFrame (male, columns = ['Location','TotalRate', 'Gender'])\n",
    "\n",
    "all_ = pd.concat([df_both, df_female, df_male], axis=0)\n",
    "sort_all_ = all_.sort_values(by=['Location'], inplace=True)\n",
    "\n",
    "display(all_)"
   ]
  },
  {
   "cell_type": "code",
   "execution_count": 23,
   "id": "excited-problem",
   "metadata": {},
   "outputs": [
    {
     "data": {
      "image/png": "[encoded data removed]",
      "text/plain": [
       "<Figure size 432x288 with 1 Axes>"
      ]
     },
     "metadata": {
      "needs_background": "light"
     },
     "output_type": "display_data"
    }
   ],
   "source": [
    "plt.scatter(data=all_, y='TotalRate', x='Gender');\n",
    "plt.title('', fontsize=16)\n",
    "plt.ylabel('Gender', fontsize=14)\n",
    "plt.xlabel('Total Rate', fontsize=14);"
   ]
  },
  {
   "cell_type": "markdown",
   "id": "framed-bruce",
   "metadata": {},
   "source": [
    "Figure above shows Male has the highest Suicide Rate and Female have the lowest Suicide Rate"
   ]
  },
  {
   "cell_type": "markdown",
   "id": "endangered-turkey",
   "metadata": {},
   "source": [
    "### 6. Separating the groups (Period: 2000, 2005, 2010, 2015, 2016)"
   ]
  },
  {
   "cell_type": "markdown",
   "id": "cathedral-being",
   "metadata": {},
   "source": [
    "* Adding values according to respective year and genders"
   ]
  },
  {
   "cell_type": "code",
   "execution_count": 24,
   "id": "turkish-counter",
   "metadata": {},
   "outputs": [],
   "source": [
    "sum_yr = df.groupby([\"Period\", \"Dim1\"])['First Tooltip'].sum()\n",
    "#print(sum_yr)"
   ]
  },
  {
   "cell_type": "code",
   "execution_count": 25,
   "id": "norwegian-monday",
   "metadata": {},
   "outputs": [],
   "source": [
    "#type(sum_yr)\n",
    "#sum_yr.index"
   ]
  },
  {
   "cell_type": "markdown",
   "id": "foreign-naples",
   "metadata": {},
   "source": [
    "* creating the table"
   ]
  },
  {
   "cell_type": "code",
   "execution_count": 26,
   "id": "current-morocco",
   "metadata": {},
   "outputs": [],
   "source": [
    "df_yrgen = sum_yr.add_suffix('').reset_index().sort_values('Dim1')\n",
    "#display(df_yrgen)"
   ]
  },
  {
   "cell_type": "markdown",
   "id": "centered-joshua",
   "metadata": {},
   "source": [
    "* arranging according to respective gender"
   ]
  },
  {
   "cell_type": "code",
   "execution_count": 27,
   "id": "functional-allowance",
   "metadata": {},
   "outputs": [],
   "source": [
    "df_yrboth = df_yrgen[:5]\n",
    "df_yrfemale = df_yrgen[5:10]\n",
    "df_yrmale = df_yrgen[10:15]\n",
    "#display(df_yrboth)"
   ]
  },
  {
   "cell_type": "code",
   "execution_count": 28,
   "id": "hungry-serial",
   "metadata": {},
   "outputs": [
    {
     "name": "stdout",
     "output_type": "stream",
     "text": [
      "[2000, 2005, 2010, 2015, 2016]\n"
     ]
    }
   ],
   "source": [
    "year = [2000,2005,2010,2015,2016]\n",
    "print(year)"
   ]
  },
  {
   "cell_type": "markdown",
   "id": "studied-heating",
   "metadata": {},
   "source": [
    "* Plotting the graph"
   ]
  },
  {
   "cell_type": "code",
   "execution_count": 29,
   "id": "injured-stations",
   "metadata": {},
   "outputs": [
    {
     "data": {
      "image/png": "[encoded data removed]",
      "text/plain": [
       "<Figure size 432x288 with 1 Axes>"
      ]
     },
     "metadata": {
      "needs_background": "light"
     },
     "output_type": "display_data"
    }
   ],
   "source": [
    "x = np.array(year)\n",
    "\n",
    "#Both sexes\n",
    "y = np.array(df_yrboth['First Tooltip'])\n",
    "\n",
    "plt.plot(x,y, color='blue', label='Both sexes')\n",
    "z = np.polyfit(x, y, 1)\n",
    "p = np.poly1d(z)\n",
    "plt.plot(x,p(x),\"r--\", color='blue') #drawing the trend\n",
    "\n",
    "\n",
    "#Male\n",
    "y = np.array(df_yrmale['First Tooltip'])\n",
    "\n",
    "plt.plot(x,y, color='red', label='Male')\n",
    "z = np.polyfit(x, y, 1)\n",
    "p = np.poly1d(z)\n",
    "plt.plot(x,p(x),\"r--\", color='red')\n",
    "\n",
    "\n",
    "#Female\n",
    "y = np.array(df_yrfemale['First Tooltip'])\n",
    "\n",
    "plt.plot(x,y, color='orange', label='Female')\n",
    "z = np.polyfit(x, y, 1)\n",
    "p = np.poly1d(z)\n",
    "plt.plot(x,p(x),\"r--\", color='orange')\n",
    "\n",
    "plt.title(\"Trend Suicide Rate\")\n",
    "plt.xlabel('Periods')\n",
    "plt.ylabel('Total Rates')\n",
    "plt.legend()\n",
    "plt.show();"
   ]
  },
  {
   "cell_type": "markdown",
   "id": "atomic-assault",
   "metadata": {},
   "source": [
    "Figure above shows the trend decreases over the year from 2000 to 2016, with a steep decrease from 2015 to 2016 (Possible due to not enough data collected in 2016)"
   ]
  },
  {
   "cell_type": "code",
   "execution_count": 30,
   "id": "unusual-editing",
   "metadata": {},
   "outputs": [
    {
     "data": {
      "text/html": [
       "<div>\n",
       "<style scoped>\n",
       "    .dataframe tbody tr th:only-of-type {\n",
       "        vertical-align: middle;\n",
       "    }\n",
       "\n",
       "    .dataframe tbody tr th {\n",
       "        vertical-align: top;\n",
       "    }\n",
       "\n",
       "    .dataframe thead th {\n",
       "        text-align: right;\n",
       "    }\n",
       "</style>\n",
       "<table border=\"1\" class=\"dataframe\">\n",
       "  <thead>\n",
       "    <tr style=\"text-align: right;\">\n",
       "      <th></th>\n",
       "      <th>Period</th>\n",
       "      <th>Dim1</th>\n",
       "      <th>First Tooltip</th>\n",
       "    </tr>\n",
       "  </thead>\n",
       "  <tbody>\n",
       "    <tr>\n",
       "      <th>12</th>\n",
       "      <td>2016</td>\n",
       "      <td>Both sexes</td>\n",
       "      <td>2.3</td>\n",
       "    </tr>\n",
       "    <tr>\n",
       "      <th>13</th>\n",
       "      <td>2016</td>\n",
       "      <td>Female</td>\n",
       "      <td>1.6</td>\n",
       "    </tr>\n",
       "    <tr>\n",
       "      <th>14</th>\n",
       "      <td>2016</td>\n",
       "      <td>Male</td>\n",
       "      <td>3.4</td>\n",
       "    </tr>\n",
       "  </tbody>\n",
       "</table>\n",
       "</div>"
      ],
      "text/plain": [
       "   Period        Dim1  First Tooltip\n",
       "12   2016  Both sexes            2.3\n",
       "13   2016      Female            1.6\n",
       "14   2016        Male            3.4"
      ]
     },
     "metadata": {},
     "output_type": "display_data"
    }
   ],
   "source": [
    "df_yr = sum_yr.add_suffix('').reset_index().sort_values('Period')\n",
    "display(df_yr.tail(3))"
   ]
  },
  {
   "cell_type": "code",
   "execution_count": null,
   "id": "imposed-circus",
   "metadata": {},
   "outputs": [],
   "source": []
  }
 ],
 "metadata": {
  "kernelspec": {
   "display_name": "Python 3",
   "language": "python",
   "name": "python3"
  },
  "language_info": {
   "codemirror_mode": {
    "name": "ipython",
    "version": 3
   },
   "file_extension": ".py",
   "mimetype": "text/x-python",
   "name": "python",
   "nbconvert_exporter": "python",
   "pygments_lexer": "ipython3",
   "version": "3.9.2"
  }
 },
 "nbformat": 4,
 "nbformat_minor": 5
}
